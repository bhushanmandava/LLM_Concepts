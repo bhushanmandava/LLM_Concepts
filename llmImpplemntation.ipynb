{
  "nbformat": 4,
  "nbformat_minor": 0,
  "metadata": {
    "colab": {
      "provenance": [],
      "authorship_tag": "ABX9TyMh/A9Z8zkuoKkmIZaf6Doz",
      "include_colab_link": true
    },
    "kernelspec": {
      "name": "python3",
      "display_name": "Python 3"
    },
    "language_info": {
      "name": "python"
    }
  },
  "cells": [
    {
      "cell_type": "markdown",
      "metadata": {
        "id": "view-in-github",
        "colab_type": "text"
      },
      "source": [
        "<a href=\"https://colab.research.google.com/github/bhushanmandava/basic_transformer_architecture/blob/main/llmImpplemntation.ipynb\" target=\"_parent\"><img src=\"https://colab.research.google.com/assets/colab-badge.svg\" alt=\"Open In Colab\"/></a>"
      ]
    },
    {
      "cell_type": "code",
      "execution_count": null,
      "metadata": {
        "id": "zmS7iXfpijX0"
      },
      "outputs": [],
      "source": [
        "import torch\n",
        "import torch.nn as nn"
      ]
    },
    {
      "cell_type": "code",
      "source": [
        "class attentionHead(nn.Module):\n",
        "  def __init__(self,emb_dim,d_h):\n",
        "    super().__init__()\n",
        "    self.w_q = nn.Parameter(torch.empty(emb_dim,d_h))\n",
        "    self.w_k = nn.Parameter(torch.empty(emb_dim,d_h))\n",
        "    self.w_v = nn.Parameter(torch.empty(emb_dim,d_h))\n",
        "    self.d_h= d_h\n",
        "  def forward(self,x,mask):\n",
        "    q = x @self.w_q\n",
        "    k= x @ self.w_k\n",
        "    v= x @ self.w_v\n",
        "    q , k =rope(q),rope(k)\n",
        "    score = q @ k.transpose(-2,-1) / math.sqrt(self.d_h)\n",
        "    masked_scores = score.masked_fill(mask == 0 , float(\"-inf\"))\n",
        "    attention_weights = torch.softmax(masked_scores,dim=-1)\n",
        "    return attention_weights @ v\n",
        "class MultiHeadAttention(nn.Module):\n",
        "  def __init__(self, emb_dim, number_heads):\n",
        "    super().__init__()\n",
        "    self.d_h = emb_dim // number_heads\n",
        "    self.heads =nn.ModuleList([\n",
        "        attentionHead(self.emb_dim,self.d_h)for _ in range(number_heads)\n",
        "    ])\n",
        "    self.w_o = nn.parameter(torch.empty(emb_dim,emb_dim))\n",
        "    def forward(self,x,mask):\n",
        "      output = torch.cat([head(x,mask) for head in self.heads])\n",
        "      return output @ self.w_0\n",
        "class MLP(nn.Module):\n",
        "  def __init__(self,emb_dim):\n",
        "    super().__init__()\n",
        "    self.w_1 = nn.paramter(torch.empty(emb_dim,4*emb_dim))\n",
        "    self.w_2 = nn.paramter(torch.empty(4*emb_dim,emb_dim))\n",
        "    self.b_1 = nn.paramter(torch.empty(4*emb_dim))\n",
        "    self.b_2 = nn.paramter(torch.empty(emb_dim))\n",
        "    def forward(self, x):\n",
        "      x = x @ self.w_1 + self.b_1\n",
        "      x = torch.relu(x)\n",
        "      x = x @ self.w_2 + self.b_2\n",
        "      return x\n",
        "class TransformerModule(nn.Module):\n",
        "  def __init__(self,emb_dim,number_heads):\n",
        "    super().__init__()\n",
        "    self.norm1 = nn.RMSNorm(emb_dim)\n",
        "    self.attn= MultiHeadAttention(emb_dim,number_heads)\n",
        "    self.norm2 = nn.RMSNorm(emb_dim)\n",
        "    self.mlp = MLP(emb_dim)\n",
        "  def forward(self,x,mask):\n",
        "    x = x+self.attn(self.norm1(x),mask)\n",
        "    x = x+self.mlp(self.norm2(x))\n",
        "    return x\n",
        "\n",
        "class autoregressiveTransformer(nn.Module):\n",
        "  def __init__(self, vocab_size , emb_dim , number_heads ,number_blocks,pad_idx):\n",
        "    super().__init__()\n",
        "    self.embedding = nn.Embedding(vocab_size , emb_dim , padding_idx=pad_idx)\n",
        "    self.layers = nn.ModuleList( [\n",
        "        TransformerModule(emb_dim,number_heads) for _ in range(number_blocks) ])\n",
        "    self.out = nn.Parameter(torch.rand(emb_dim,vocab_size))\n",
        "  def forward(self,x,mask):\n",
        "    x = self.embedding(x)\n",
        "    _,seq_len,_ =x.shape\n",
        "    mask = torch.tril(torch.ones(seq_len,seq_len,device = x.device))\n",
        "    for layer in self.layers:\n",
        "      x = layer(x,mask)\n",
        "    logits = x @ self.out\n",
        "    return logits"
      ],
      "metadata": {
        "id": "zlf-PYfvisN4"
      },
      "execution_count": null,
      "outputs": []
    },
    {
      "cell_type": "code",
      "source": [],
      "metadata": {
        "id": "QBEM16eyjlDw"
      },
      "execution_count": null,
      "outputs": []
    }
  ]
}