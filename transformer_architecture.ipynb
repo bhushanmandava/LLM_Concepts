{
  "cells": [
    {
      "cell_type": "markdown",
      "metadata": {
        "id": "view-in-github",
        "colab_type": "text"
      },
      "source": [
        "<a href=\"https://colab.research.google.com/github/bhushanmandava/basic_transformer_architecture/blob/main/transformer_architecture.ipynb\" target=\"_parent\"><img src=\"https://colab.research.google.com/assets/colab-badge.svg\" alt=\"Open In Colab\"/></a>"
      ]
    },
    {
      "cell_type": "markdown",
      "source": [
        "![1_tb9TT-mwFn1WPzkkbjoMCQ.jpg](data:image/jpeg;base64,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)"
      ],
      "metadata": {
        "id": "3lVgn0mivUZm"
      },
      "id": "3lVgn0mivUZm"
    },
    {
      "cell_type": "markdown",
      "source": [
        "## for this code we are only using decoder only part which most of the large language models use"
      ],
      "metadata": {
        "id": "fhrZ2KJAvzgm"
      },
      "id": "fhrZ2KJAvzgm"
    },
    {
      "cell_type": "code",
      "source": [
        "!pip install --upgrade setuptools pip\n",
        "!pip install torch lightning\n"
      ],
      "metadata": {
        "colab": {
          "base_uri": "https://localhost:8080/"
        },
        "id": "qxi_xH-jpOCY",
        "outputId": "853e3aea-e90c-4bd2-88f3-1509bae5aa46"
      },
      "id": "qxi_xH-jpOCY",
      "execution_count": null,
      "outputs": [
        {
          "output_type": "stream",
          "name": "stdout",
          "text": [
            "Requirement already satisfied: setuptools in /usr/local/lib/python3.11/dist-packages (78.1.0)\n",
            "Requirement already satisfied: pip in /usr/local/lib/python3.11/dist-packages (25.0.1)\n",
            "Requirement already satisfied: torch in /usr/local/lib/python3.11/dist-packages (2.6.0+cu124)\n",
            "Requirement already satisfied: lightning in /usr/local/lib/python3.11/dist-packages (2.5.1)\n",
            "Requirement already satisfied: filelock in /usr/local/lib/python3.11/dist-packages (from torch) (3.18.0)\n",
            "Requirement already satisfied: typing-extensions>=4.10.0 in /usr/local/lib/python3.11/dist-packages (from torch) (4.12.2)\n",
            "Requirement already satisfied: networkx in /usr/local/lib/python3.11/dist-packages (from torch) (3.4.2)\n",
            "Requirement already satisfied: jinja2 in /usr/local/lib/python3.11/dist-packages (from torch) (3.1.6)\n",
            "Requirement already satisfied: fsspec in /usr/local/lib/python3.11/dist-packages (from torch) (2025.3.0)\n",
            "Requirement already satisfied: nvidia-cuda-nvrtc-cu12==12.4.127 in /usr/local/lib/python3.11/dist-packages (from torch) (12.4.127)\n",
            "Requirement already satisfied: nvidia-cuda-runtime-cu12==12.4.127 in /usr/local/lib/python3.11/dist-packages (from torch) (12.4.127)\n",
            "Requirement already satisfied: nvidia-cuda-cupti-cu12==12.4.127 in /usr/local/lib/python3.11/dist-packages (from torch) (12.4.127)\n",
            "Requirement already satisfied: nvidia-cudnn-cu12==9.1.0.70 in /usr/local/lib/python3.11/dist-packages (from torch) (9.1.0.70)\n",
            "Requirement already satisfied: nvidia-cublas-cu12==12.4.5.8 in /usr/local/lib/python3.11/dist-packages (from torch) (12.4.5.8)\n",
            "Requirement already satisfied: nvidia-cufft-cu12==11.2.1.3 in /usr/local/lib/python3.11/dist-packages (from torch) (11.2.1.3)\n",
            "Requirement already satisfied: nvidia-curand-cu12==10.3.5.147 in /usr/local/lib/python3.11/dist-packages (from torch) (10.3.5.147)\n",
            "Requirement already satisfied: nvidia-cusolver-cu12==11.6.1.9 in /usr/local/lib/python3.11/dist-packages (from torch) (11.6.1.9)\n",
            "Requirement already satisfied: nvidia-cusparse-cu12==12.3.1.170 in /usr/local/lib/python3.11/dist-packages (from torch) (12.3.1.170)\n",
            "Requirement already satisfied: nvidia-cusparselt-cu12==0.6.2 in /usr/local/lib/python3.11/dist-packages (from torch) (0.6.2)\n",
            "Requirement already satisfied: nvidia-nccl-cu12==2.21.5 in /usr/local/lib/python3.11/dist-packages (from torch) (2.21.5)\n",
            "Requirement already satisfied: nvidia-nvtx-cu12==12.4.127 in /usr/local/lib/python3.11/dist-packages (from torch) (12.4.127)\n",
            "Requirement already satisfied: nvidia-nvjitlink-cu12==12.4.127 in /usr/local/lib/python3.11/dist-packages (from torch) (12.4.127)\n",
            "Requirement already satisfied: triton==3.2.0 in /usr/local/lib/python3.11/dist-packages (from torch) (3.2.0)\n",
            "Requirement already satisfied: sympy==1.13.1 in /usr/local/lib/python3.11/dist-packages (from torch) (1.13.1)\n",
            "Requirement already satisfied: mpmath<1.4,>=1.1.0 in /usr/local/lib/python3.11/dist-packages (from sympy==1.13.1->torch) (1.3.0)\n",
            "Requirement already satisfied: PyYAML<8.0,>=5.4 in /usr/local/lib/python3.11/dist-packages (from lightning) (6.0.2)\n",
            "Requirement already satisfied: lightning-utilities<2.0,>=0.10.0 in /usr/local/lib/python3.11/dist-packages (from lightning) (0.14.2)\n",
            "Requirement already satisfied: packaging<25.0,>=20.0 in /usr/local/lib/python3.11/dist-packages (from lightning) (24.2)\n",
            "Requirement already satisfied: torchmetrics<3.0,>=0.7.0 in /usr/local/lib/python3.11/dist-packages (from lightning) (1.7.0)\n",
            "Requirement already satisfied: tqdm<6.0,>=4.57.0 in /usr/local/lib/python3.11/dist-packages (from lightning) (4.67.1)\n",
            "Requirement already satisfied: pytorch-lightning in /usr/local/lib/python3.11/dist-packages (from lightning) (2.5.1)\n",
            "Requirement already satisfied: aiohttp!=4.0.0a0,!=4.0.0a1 in /usr/local/lib/python3.11/dist-packages (from fsspec[http]<2026.0,>=2022.5.0->lightning) (3.11.14)\n",
            "Requirement already satisfied: setuptools in /usr/local/lib/python3.11/dist-packages (from lightning-utilities<2.0,>=0.10.0->lightning) (78.1.0)\n",
            "Requirement already satisfied: numpy>1.20.0 in /usr/local/lib/python3.11/dist-packages (from torchmetrics<3.0,>=0.7.0->lightning) (2.0.2)\n",
            "Requirement already satisfied: MarkupSafe>=2.0 in /usr/local/lib/python3.11/dist-packages (from jinja2->torch) (3.0.2)\n",
            "Requirement already satisfied: aiohappyeyeballs>=2.3.0 in /usr/local/lib/python3.11/dist-packages (from aiohttp!=4.0.0a0,!=4.0.0a1->fsspec[http]<2026.0,>=2022.5.0->lightning) (2.6.1)\n",
            "Requirement already satisfied: aiosignal>=1.1.2 in /usr/local/lib/python3.11/dist-packages (from aiohttp!=4.0.0a0,!=4.0.0a1->fsspec[http]<2026.0,>=2022.5.0->lightning) (1.3.2)\n",
            "Requirement already satisfied: attrs>=17.3.0 in /usr/local/lib/python3.11/dist-packages (from aiohttp!=4.0.0a0,!=4.0.0a1->fsspec[http]<2026.0,>=2022.5.0->lightning) (25.3.0)\n",
            "Requirement already satisfied: frozenlist>=1.1.1 in /usr/local/lib/python3.11/dist-packages (from aiohttp!=4.0.0a0,!=4.0.0a1->fsspec[http]<2026.0,>=2022.5.0->lightning) (1.5.0)\n",
            "Requirement already satisfied: multidict<7.0,>=4.5 in /usr/local/lib/python3.11/dist-packages (from aiohttp!=4.0.0a0,!=4.0.0a1->fsspec[http]<2026.0,>=2022.5.0->lightning) (6.2.0)\n",
            "Requirement already satisfied: propcache>=0.2.0 in /usr/local/lib/python3.11/dist-packages (from aiohttp!=4.0.0a0,!=4.0.0a1->fsspec[http]<2026.0,>=2022.5.0->lightning) (0.3.0)\n",
            "Requirement already satisfied: yarl<2.0,>=1.17.0 in /usr/local/lib/python3.11/dist-packages (from aiohttp!=4.0.0a0,!=4.0.0a1->fsspec[http]<2026.0,>=2022.5.0->lightning) (1.18.3)\n",
            "Requirement already satisfied: idna>=2.0 in /usr/local/lib/python3.11/dist-packages (from yarl<2.0,>=1.17.0->aiohttp!=4.0.0a0,!=4.0.0a1->fsspec[http]<2026.0,>=2022.5.0->lightning) (3.10)\n"
          ]
        }
      ]
    },
    {
      "cell_type": "markdown",
      "source": [
        "## importing the required modules"
      ],
      "metadata": {
        "id": "JKqkM7eRuIf2"
      },
      "id": "JKqkM7eRuIf2"
    },
    {
      "cell_type": "code",
      "execution_count": null,
      "id": "5c520e0b-c6e4-43ce-93f5-c0f2b5e75438",
      "metadata": {
        "id": "5c520e0b-c6e4-43ce-93f5-c0f2b5e75438"
      },
      "outputs": [],
      "source": [
        "import torch\n",
        "import torch.nn as nn\n",
        "import torch.nn.functional as F\n",
        "from torch.optim import Adam\n",
        "from torch.utils.data import TensorDataset, DataLoader\n",
        "import lightning as L#it is to we can scale our code easily\n"
      ]
    },
    {
      "cell_type": "markdown",
      "id": "fa9ddca3-53b6-451b-8fe1-6116e1f7f473",
      "metadata": {
        "id": "fa9ddca3-53b6-451b-8fe1-6116e1f7f473"
      },
      "source": [
        "## Create the input and output and data"
      ]
    },
    {
      "cell_type": "code",
      "execution_count": null,
      "id": "63631347-8db6-4812-8198-9169b2df0b24",
      "metadata": {
        "id": "63631347-8db6-4812-8198-9169b2df0b24"
      },
      "outputs": [],
      "source": [
        "token_to_id = {'what' : 0,\n",
        "               'is' : 1,\n",
        "               'transformer' : 2,\n",
        "               'attention': 3,\n",
        "               '<EOS>' : 4}\n",
        "\n",
        "id_to_token = dict(map(reversed, token_to_id.items()))\n",
        "\n",
        "inputs = torch.tensor([[token_to_id[\"what\"],\n",
        "                        token_to_id[\"is\"],\n",
        "                        token_to_id[\"transformer\"],\n",
        "                        token_to_id[\"<EOS>\"],\n",
        "                        token_to_id[\"attention\"]],\n",
        "\n",
        "                       [token_to_id[\"transformer\"],\n",
        "                        token_to_id[\"is\"],\n",
        "                        token_to_id[\"what\"],\n",
        "                        token_to_id[\"<EOS>\"],\n",
        "                        token_to_id[\"attention\"]]])\n",
        "\n",
        "labels = torch.tensor([[token_to_id[\"is\"],\n",
        "                        token_to_id[\"transformer\"],\n",
        "                        token_to_id[\"<EOS>\"],\n",
        "                        token_to_id[\"attention\"],\n",
        "                        token_to_id[\"<EOS>\"]],\n",
        "\n",
        "                       [token_to_id[\"is\"],\n",
        "                        token_to_id[\"what\"],\n",
        "                        token_to_id[\"<EOS>\"],\n",
        "                        token_to_id[\"attention\"],\n",
        "                        token_to_id[\"<EOS>\"]]])\n",
        "\n",
        "dataset = TensorDataset(inputs, labels)\n",
        "dataloader = DataLoader(dataset)\n"
      ]
    },
    {
      "cell_type": "markdown",
      "source": [
        "## step2: positional encoding\n",
        "we are proceeding direclty to step 2 beacuse we gonna nn.Embedding for our word embedding step"
      ],
      "metadata": {
        "id": "E0tU1jnIudfE"
      },
      "id": "E0tU1jnIudfE"
    },
    {
      "cell_type": "code",
      "execution_count": null,
      "id": "b8b62789-ee84-49bf-b736-12c1b47b34ae",
      "metadata": {
        "id": "b8b62789-ee84-49bf-b736-12c1b47b34ae"
      },
      "outputs": [],
      "source": [
        "class PositionEncoding(nn.Module):\n",
        "\n",
        "    def __init__(self, d_model=2, max_len=6):\n",
        "        super().__init__()\n",
        "        pe = torch.zeros(max_len, d_model)\n",
        "        position = torch.arange(start=0, end=max_len, step=1).float().unsqueeze(1)\n",
        "        embedding_index = torch.arange(start=0, end=d_model, step=2).float()\n",
        "        div_term = 1/torch.tensor(10000.0)**(embedding_index / d_model)\n",
        "        pe[:, 0::2] = torch.sin(position * div_term)\n",
        "        pe[:, 1::2] = torch.cos(position * div_term)\n",
        "        self.register_buffer('pe', pe)\n",
        "\n",
        "    def forward(self, word_embeddings):\n",
        "        return word_embeddings + self.pe[:word_embeddings.size(0), :]\n"
      ]
    },
    {
      "cell_type": "markdown",
      "source": [
        "## step 3: Attention is all you need with a mask"
      ],
      "metadata": {
        "id": "XvAhK6HQuwKL"
      },
      "id": "XvAhK6HQuwKL"
    },
    {
      "cell_type": "markdown",
      "source": [
        "![0_D7NyroCIGDi23eAl.jpg](data:image/jpeg;base64,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)"
      ],
      "metadata": {
        "id": "lL9tsJXbwHie"
      },
      "id": "lL9tsJXbwHie"
    },
    {
      "cell_type": "code",
      "execution_count": null,
      "id": "e3392130-cd25-4000-97bb-9612764c83a8",
      "metadata": {
        "id": "e3392130-cd25-4000-97bb-9612764c83a8"
      },
      "outputs": [],
      "source": [
        "class Attention(nn.Module):\n",
        "\n",
        "    def __init__(self, d_model=2):\n",
        "        super().__init__()\n",
        "\n",
        "        self.d_model = d_model\n",
        "        self.W_q = nn.Linear(in_features=d_model, out_features=d_model, bias=False)\n",
        "        self.W_k = nn.Linear(in_features=d_model, out_features=d_model, bias=False)\n",
        "        self.W_v = nn.Linear(in_features=d_model, out_features=d_model, bias=False)\n",
        "\n",
        "        self.row_dim = 0\n",
        "        self.col_dim = 1\n",
        "\n",
        "    def forward(self, encodings_for_q, encodings_for_k, encodings_for_v, mask=None):\n",
        "        q = self.W_q(encodings_for_q)\n",
        "        k = self.W_k(encodings_for_k)\n",
        "        v = self.W_v(encodings_for_v)\n",
        "\n",
        "        sims = torch.matmul(q, k.transpose(dim0=self.row_dim, dim1=self.col_dim))\n",
        "        scaled_sims = sims / torch.tensor(k.size(self.col_dim)**0.5)\n",
        "\n",
        "        if mask is not None:\n",
        "            scaled_sims = scaled_sims.masked_fill(mask=mask, value=-1e9)\n",
        "\n",
        "        attention_percents = F.softmax(scaled_sims, dim=self.col_dim)\n",
        "        attention_scores = torch.matmul(attention_percents, v)\n",
        "\n",
        "        return attention_scores\n"
      ]
    },
    {
      "cell_type": "markdown",
      "id": "791ffd7e-6671-4153-8d47-4c3b74e61341",
      "metadata": {
        "id": "791ffd7e-6671-4153-8d47-4c3b74e61341"
      },
      "source": [
        "\n",
        "## step 4: residual connection and fully connected layer"
      ]
    },
    {
      "cell_type": "code",
      "execution_count": null,
      "id": "1f286589-e933-46d2-aeda-600c74799357",
      "metadata": {
        "id": "1f286589-e933-46d2-aeda-600c74799357"
      },
      "outputs": [],
      "source": [
        "class DecoderOnlyTransformer(L.LightningModule):\n",
        "\n",
        "    def __init__(self, num_tokens=4, d_model=2, max_len=6):\n",
        "        super().__init__()\n",
        "\n",
        "        L.seed_everything(seed=42)\n",
        "\n",
        "        self.we = nn.Embedding(num_embeddings=num_tokens, embedding_dim=d_model)\n",
        "        self.pe = PositionEncoding(d_model=d_model, max_len=max_len)\n",
        "        self.self_attention = Attention(d_model=d_model)\n",
        "        self.fc_layer = nn.Linear(in_features=d_model, out_features=num_tokens)\n",
        "        self.loss = nn.CrossEntropyLoss()\n",
        "\n",
        "    def forward(self, token_ids):\n",
        "        word_embeddings = self.we(token_ids)\n",
        "        position_encoded = self.pe(word_embeddings)\n",
        "        mask = torch.tril(torch.ones((token_ids.size(dim=0), token_ids.size(dim=0)), device=self.device))\n",
        "        mask = mask == 0\n",
        "        self_attention_values = self.self_attention(position_encoded, position_encoded, position_encoded, mask=mask)\n",
        "        residual_connection_values = position_encoded + self_attention_values\n",
        "        fc_layer_output = self.fc_layer(residual_connection_values)\n",
        "        return fc_layer_output\n",
        "\n",
        "    def configure_optimizers(self):\n",
        "        return Adam(self.parameters(), lr=0.1)\n",
        "\n",
        "    def training_step(self, batch, batch_idx):\n",
        "        input_tokens, labels = batch\n",
        "        output = self.forward(input_tokens[0])\n",
        "        loss = self.loss(output, labels[0])\n",
        "        return loss\n"
      ]
    },
    {
      "cell_type": "markdown",
      "source": [
        "## model prediction without any training"
      ],
      "metadata": {
        "id": "Zs-1ekT8vDt-"
      },
      "id": "Zs-1ekT8vDt-"
    },
    {
      "cell_type": "code",
      "execution_count": null,
      "id": "0c7d3c9f-17c0-41e7-b654-c03540713b90",
      "metadata": {
        "id": "0c7d3c9f-17c0-41e7-b654-c03540713b90",
        "colab": {
          "base_uri": "https://localhost:8080/"
        },
        "outputId": "6df06908-eb0c-435f-fd47-b1614192e913"
      },
      "outputs": [
        {
          "output_type": "stream",
          "name": "stderr",
          "text": [
            "INFO: Seed set to 42\n",
            "INFO:lightning.fabric.utilities.seed:Seed set to 42\n"
          ]
        },
        {
          "output_type": "stream",
          "name": "stdout",
          "text": [
            "Predicted Tokens:\n",
            "\n",
            "\t <EOS>\n"
          ]
        }
      ],
      "source": [
        "model = DecoderOnlyTransformer(num_tokens=len(token_to_id), d_model=2, max_len=6)\n",
        "\n",
        "model_input = torch.tensor([token_to_id[\"what\"],\n",
        "                            token_to_id[\"is\"],\n",
        "                            token_to_id[\"transformer\"],\n",
        "                            token_to_id[\"<EOS>\"]])\n",
        "input_length = model_input.size(dim=0)\n",
        "\n",
        "predictions = model(model_input)\n",
        "predicted_id = torch.tensor([torch.argmax(predictions[-1,:])])\n",
        "predicted_ids = predicted_id\n",
        "\n",
        "max_length = 6\n",
        "for i in range(input_length, max_length):\n",
        "    if (predicted_id == token_to_id[\"<EOS>\"]):\n",
        "        break\n",
        "\n",
        "    model_input = torch.cat((model_input, predicted_id))\n",
        "\n",
        "    predictions = model(model_input)\n",
        "    predicted_id = torch.tensor([torch.argmax(predictions[-1,:])])\n",
        "    predicted_ids = torch.cat((predicted_ids, predicted_id))\n",
        "\n",
        "print(\"Predicted Tokens:\\n\")\n",
        "for id in predicted_ids:\n",
        "    print(\"\\t\", id_to_token[id.item()])\n"
      ]
    },
    {
      "cell_type": "markdown",
      "source": [
        "## model training"
      ],
      "metadata": {
        "id": "DA6Bb5DRvIDD"
      },
      "id": "DA6Bb5DRvIDD"
    },
    {
      "cell_type": "code",
      "execution_count": null,
      "id": "a96bd93c-31f4-4ef8-8c4f-fd33c3c20344",
      "metadata": {
        "tags": [],
        "id": "a96bd93c-31f4-4ef8-8c4f-fd33c3c20344",
        "colab": {
          "base_uri": "https://localhost:8080/",
          "height": 778,
          "referenced_widgets": [
            "c7526c92e5834053a9f75bc3f5505ce4",
            "2be81ac207044aa1b74470683d399871",
            "90834b86237a42c2a73dc7aac356b026",
            "7ab6920037174338ac4d1a292fbb29d9",
            "6030d21cbdb8427aa67ab47d9c407695",
            "5dd21319cf0d4eb99a8a3fd963f59106",
            "233efaa3debd4ff9838fb39b417923e9",
            "883d1c3e5f874c758c3a456f8d8411f3",
            "01aed9dce16343b7bb269f0179f1e6e6",
            "6828b52d59024a759fd8864f37bc6cb6",
            "317ea6953bcb48a694f89a8738c443b6"
          ]
        },
        "outputId": "f3815e5d-86cc-4448-e2c7-d0f1a379ad97"
      },
      "outputs": [
        {
          "output_type": "stream",
          "name": "stderr",
          "text": [
            "INFO: You are using the plain ModelCheckpoint callback. Consider using LitModelCheckpoint which with seamless uploading to Model registry.\n",
            "INFO:lightning.pytorch.utilities.rank_zero:You are using the plain ModelCheckpoint callback. Consider using LitModelCheckpoint which with seamless uploading to Model registry.\n",
            "INFO: GPU available: True (cuda), used: True\n",
            "INFO:lightning.pytorch.utilities.rank_zero:GPU available: True (cuda), used: True\n",
            "INFO: TPU available: False, using: 0 TPU cores\n",
            "INFO:lightning.pytorch.utilities.rank_zero:TPU available: False, using: 0 TPU cores\n",
            "INFO: HPU available: False, using: 0 HPUs\n",
            "INFO:lightning.pytorch.utilities.rank_zero:HPU available: False, using: 0 HPUs\n",
            "INFO: LOCAL_RANK: 0 - CUDA_VISIBLE_DEVICES: [0]\n",
            "INFO:lightning.pytorch.accelerators.cuda:LOCAL_RANK: 0 - CUDA_VISIBLE_DEVICES: [0]\n",
            "INFO: \n",
            "  | Name           | Type             | Params | Mode \n",
            "------------------------------------------------------------\n",
            "0 | we             | Embedding        | 10     | train\n",
            "1 | pe             | PositionEncoding | 0      | train\n",
            "2 | self_attention | Attention        | 12     | train\n",
            "3 | fc_layer       | Linear           | 15     | train\n",
            "4 | loss           | CrossEntropyLoss | 0      | train\n",
            "------------------------------------------------------------\n",
            "37        Trainable params\n",
            "0         Non-trainable params\n",
            "37        Total params\n",
            "0.000     Total estimated model params size (MB)\n",
            "8         Modules in train mode\n",
            "0         Modules in eval mode\n",
            "INFO:lightning.pytorch.callbacks.model_summary:\n",
            "  | Name           | Type             | Params | Mode \n",
            "------------------------------------------------------------\n",
            "0 | we             | Embedding        | 10     | train\n",
            "1 | pe             | PositionEncoding | 0      | train\n",
            "2 | self_attention | Attention        | 12     | train\n",
            "3 | fc_layer       | Linear           | 15     | train\n",
            "4 | loss           | CrossEntropyLoss | 0      | train\n",
            "------------------------------------------------------------\n",
            "37        Trainable params\n",
            "0         Non-trainable params\n",
            "37        Total params\n",
            "0.000     Total estimated model params size (MB)\n",
            "8         Modules in train mode\n",
            "0         Modules in eval mode\n"
          ]
        },
        {
          "output_type": "display_data",
          "data": {
            "text/plain": [
              "Training: |          | 0/? [00:00<?, ?it/s]"
            ],
            "application/vnd.jupyter.widget-view+json": {
              "version_major": 2,
              "version_minor": 0,
              "model_id": "c7526c92e5834053a9f75bc3f5505ce4"
            }
          },
          "metadata": {}
        },
        {
          "output_type": "stream",
          "name": "stderr",
          "text": [
            "INFO: `Trainer.fit` stopped: `max_epochs=30` reached.\n",
            "INFO:lightning.pytorch.utilities.rank_zero:`Trainer.fit` stopped: `max_epochs=30` reached.\n"
          ]
        }
      ],
      "source": [
        "trainer = L.Trainer(max_epochs=30)\n",
        "trainer.fit(model, train_dataloaders=dataloader)"
      ]
    },
    {
      "cell_type": "markdown",
      "source": [
        "## prediuction after training"
      ],
      "metadata": {
        "id": "5Kqz4UzJvKbX"
      },
      "id": "5Kqz4UzJvKbX"
    },
    {
      "cell_type": "code",
      "execution_count": null,
      "id": "717eaa4e-2249-46a1-b01f-9ed76beed0de",
      "metadata": {
        "id": "717eaa4e-2249-46a1-b01f-9ed76beed0de",
        "colab": {
          "base_uri": "https://localhost:8080/"
        },
        "outputId": "8cae29da-792b-4556-9cc1-7437b61e1ff8"
      },
      "outputs": [
        {
          "output_type": "stream",
          "name": "stdout",
          "text": [
            "Predicted Tokens:\n",
            "\n",
            "\t attention\n",
            "\t <EOS>\n"
          ]
        }
      ],
      "source": [
        "model_input = torch.tensor([token_to_id[\"what\"],\n",
        "                            token_to_id[\"is\"],\n",
        "                            token_to_id[\"transformer\"],\n",
        "                            token_to_id[\"<EOS>\"]])\n",
        "input_length = model_input.size(dim=0)\n",
        "\n",
        "predictions = model(model_input)\n",
        "predicted_id = torch.tensor([torch.argmax(predictions[-1,:])])\n",
        "predicted_ids = predicted_id\n",
        "\n",
        "for i in range(input_length, max_length):\n",
        "    if (predicted_id == token_to_id[\"<EOS>\"]):\n",
        "        break\n",
        "\n",
        "    model_input = torch.cat((model_input, predicted_id))\n",
        "\n",
        "    predictions = model(model_input)\n",
        "    predicted_id = torch.tensor([torch.argmax(predictions[-1,:])])\n",
        "    predicted_ids = torch.cat((predicted_ids, predicted_id))\n",
        "\n",
        "print(\"Predicted Tokens:\\n\")\n",
        "for id in predicted_ids:\n",
        "    print(\"\\t\", id_to_token[id.item()])"
      ]
    },
    {
      "cell_type": "code",
      "execution_count": null,
      "id": "89881ada-c49d-4805-a989-21020d9ca4c9",
      "metadata": {
        "id": "89881ada-c49d-4805-a989-21020d9ca4c9",
        "colab": {
          "base_uri": "https://localhost:8080/"
        },
        "outputId": "865a08f5-95ef-4758-d8a3-19ad7970868f"
      },
      "outputs": [
        {
          "output_type": "stream",
          "name": "stdout",
          "text": [
            "Predicted Tokens:\n",
            "\n",
            "\t attention\n",
            "\t <EOS>\n"
          ]
        }
      ],
      "source": [
        "model_input = torch.tensor([token_to_id[\"transformer\"],\n",
        "                            token_to_id[\"is\"],\n",
        "                            token_to_id[\"what\"],\n",
        "                            token_to_id[\"<EOS>\"]])\n",
        "input_length = model_input.size(dim=0)\n",
        "\n",
        "predictions = model(model_input)\n",
        "predicted_id = torch.tensor([torch.argmax(predictions[-1,:])])\n",
        "predicted_ids = predicted_id\n",
        "\n",
        "for i in range(input_length, max_length):\n",
        "    if (predicted_id == token_to_id[\"<EOS>\"]): # if the prediction is <EOS>, then we are done\n",
        "        break\n",
        "\n",
        "    model_input = torch.cat((model_input, predicted_id))\n",
        "\n",
        "    predictions = model(model_input)\n",
        "    predicted_id = torch.tensor([torch.argmax(predictions[-1,:])])\n",
        "    predicted_ids = torch.cat((predicted_ids, predicted_id))\n",
        "\n",
        "print(\"Predicted Tokens:\\n\")\n",
        "for id in predicted_ids:\n",
        "    print(\"\\t\", id_to_token[id.item()])"
      ]
    }
  ],
  "metadata": {
    "kernelspec": {
      "display_name": "Python 3",
      "name": "python3"
    },
    "language_info": {
      "codemirror_mode": {
        "name": "ipython",
        "version": 3
      },
      "file_extension": ".py",
      "mimetype": "text/x-python",
      "name": "python",
      "nbconvert_exporter": "python",
      "pygments_lexer": "ipython3",
      "version": "3.9.6"
    },
    "colab": {
      "provenance": [],
      "gpuType": "T4",
      "include_colab_link": true
    },
    "accelerator": "GPU",
    "widgets": {
      "application/vnd.jupyter.widget-state+json": {
        "c7526c92e5834053a9f75bc3f5505ce4": {
          "model_module": "@jupyter-widgets/controls",
          "model_name": "HBoxModel",
          "model_module_version": "1.5.0",
          "state": {
            "_dom_classes": [],
            "_model_module": "@jupyter-widgets/controls",
            "_model_module_version": "1.5.0",
            "_model_name": "HBoxModel",
            "_view_count": null,
            "_view_module": "@jupyter-widgets/controls",
            "_view_module_version": "1.5.0",
            "_view_name": "HBoxView",
            "box_style": "",
            "children": [
              "IPY_MODEL_2be81ac207044aa1b74470683d399871",
              "IPY_MODEL_90834b86237a42c2a73dc7aac356b026",
              "IPY_MODEL_7ab6920037174338ac4d1a292fbb29d9"
            ],
            "layout": "IPY_MODEL_6030d21cbdb8427aa67ab47d9c407695"
          }
        },
        "2be81ac207044aa1b74470683d399871": {
          "model_module": "@jupyter-widgets/controls",
          "model_name": "HTMLModel",
          "model_module_version": "1.5.0",
          "state": {
            "_dom_classes": [],
            "_model_module": "@jupyter-widgets/controls",
            "_model_module_version": "1.5.0",
            "_model_name": "HTMLModel",
            "_view_count": null,
            "_view_module": "@jupyter-widgets/controls",
            "_view_module_version": "1.5.0",
            "_view_name": "HTMLView",
            "description": "",
            "description_tooltip": null,
            "layout": "IPY_MODEL_5dd21319cf0d4eb99a8a3fd963f59106",
            "placeholder": "​",
            "style": "IPY_MODEL_233efaa3debd4ff9838fb39b417923e9",
            "value": "Epoch 29: 100%"
          }
        },
        "90834b86237a42c2a73dc7aac356b026": {
          "model_module": "@jupyter-widgets/controls",
          "model_name": "FloatProgressModel",
          "model_module_version": "1.5.0",
          "state": {
            "_dom_classes": [],
            "_model_module": "@jupyter-widgets/controls",
            "_model_module_version": "1.5.0",
            "_model_name": "FloatProgressModel",
            "_view_count": null,
            "_view_module": "@jupyter-widgets/controls",
            "_view_module_version": "1.5.0",
            "_view_name": "ProgressView",
            "bar_style": "success",
            "description": "",
            "description_tooltip": null,
            "layout": "IPY_MODEL_883d1c3e5f874c758c3a456f8d8411f3",
            "max": 2,
            "min": 0,
            "orientation": "horizontal",
            "style": "IPY_MODEL_01aed9dce16343b7bb269f0179f1e6e6",
            "value": 2
          }
        },
        "7ab6920037174338ac4d1a292fbb29d9": {
          "model_module": "@jupyter-widgets/controls",
          "model_name": "HTMLModel",
          "model_module_version": "1.5.0",
          "state": {
            "_dom_classes": [],
            "_model_module": "@jupyter-widgets/controls",
            "_model_module_version": "1.5.0",
            "_model_name": "HTMLModel",
            "_view_count": null,
            "_view_module": "@jupyter-widgets/controls",
            "_view_module_version": "1.5.0",
            "_view_name": "HTMLView",
            "description": "",
            "description_tooltip": null,
            "layout": "IPY_MODEL_6828b52d59024a759fd8864f37bc6cb6",
            "placeholder": "​",
            "style": "IPY_MODEL_317ea6953bcb48a694f89a8738c443b6",
            "value": " 2/2 [00:00&lt;00:00, 71.59it/s, v_num=3]"
          }
        },
        "6030d21cbdb8427aa67ab47d9c407695": {
          "model_module": "@jupyter-widgets/base",
          "model_name": "LayoutModel",
          "model_module_version": "1.2.0",
          "state": {
            "_model_module": "@jupyter-widgets/base",
            "_model_module_version": "1.2.0",
            "_model_name": "LayoutModel",
            "_view_count": null,
            "_view_module": "@jupyter-widgets/base",
            "_view_module_version": "1.2.0",
            "_view_name": "LayoutView",
            "align_content": null,
            "align_items": null,
            "align_self": null,
            "border": null,
            "bottom": null,
            "display": "inline-flex",
            "flex": null,
            "flex_flow": "row wrap",
            "grid_area": null,
            "grid_auto_columns": null,
            "grid_auto_flow": null,
            "grid_auto_rows": null,
            "grid_column": null,
            "grid_gap": null,
            "grid_row": null,
            "grid_template_areas": null,
            "grid_template_columns": null,
            "grid_template_rows": null,
            "height": null,
            "justify_content": null,
            "justify_items": null,
            "left": null,
            "margin": null,
            "max_height": null,
            "max_width": null,
            "min_height": null,
            "min_width": null,
            "object_fit": null,
            "object_position": null,
            "order": null,
            "overflow": null,
            "overflow_x": null,
            "overflow_y": null,
            "padding": null,
            "right": null,
            "top": null,
            "visibility": null,
            "width": "100%"
          }
        },
        "5dd21319cf0d4eb99a8a3fd963f59106": {
          "model_module": "@jupyter-widgets/base",
          "model_name": "LayoutModel",
          "model_module_version": "1.2.0",
          "state": {
            "_model_module": "@jupyter-widgets/base",
            "_model_module_version": "1.2.0",
            "_model_name": "LayoutModel",
            "_view_count": null,
            "_view_module": "@jupyter-widgets/base",
            "_view_module_version": "1.2.0",
            "_view_name": "LayoutView",
            "align_content": null,
            "align_items": null,
            "align_self": null,
            "border": null,
            "bottom": null,
            "display": null,
            "flex": null,
            "flex_flow": null,
            "grid_area": null,
            "grid_auto_columns": null,
            "grid_auto_flow": null,
            "grid_auto_rows": null,
            "grid_column": null,
            "grid_gap": null,
            "grid_row": null,
            "grid_template_areas": null,
            "grid_template_columns": null,
            "grid_template_rows": null,
            "height": null,
            "justify_content": null,
            "justify_items": null,
            "left": null,
            "margin": null,
            "max_height": null,
            "max_width": null,
            "min_height": null,
            "min_width": null,
            "object_fit": null,
            "object_position": null,
            "order": null,
            "overflow": null,
            "overflow_x": null,
            "overflow_y": null,
            "padding": null,
            "right": null,
            "top": null,
            "visibility": null,
            "width": null
          }
        },
        "233efaa3debd4ff9838fb39b417923e9": {
          "model_module": "@jupyter-widgets/controls",
          "model_name": "DescriptionStyleModel",
          "model_module_version": "1.5.0",
          "state": {
            "_model_module": "@jupyter-widgets/controls",
            "_model_module_version": "1.5.0",
            "_model_name": "DescriptionStyleModel",
            "_view_count": null,
            "_view_module": "@jupyter-widgets/base",
            "_view_module_version": "1.2.0",
            "_view_name": "StyleView",
            "description_width": ""
          }
        },
        "883d1c3e5f874c758c3a456f8d8411f3": {
          "model_module": "@jupyter-widgets/base",
          "model_name": "LayoutModel",
          "model_module_version": "1.2.0",
          "state": {
            "_model_module": "@jupyter-widgets/base",
            "_model_module_version": "1.2.0",
            "_model_name": "LayoutModel",
            "_view_count": null,
            "_view_module": "@jupyter-widgets/base",
            "_view_module_version": "1.2.0",
            "_view_name": "LayoutView",
            "align_content": null,
            "align_items": null,
            "align_self": null,
            "border": null,
            "bottom": null,
            "display": null,
            "flex": "2",
            "flex_flow": null,
            "grid_area": null,
            "grid_auto_columns": null,
            "grid_auto_flow": null,
            "grid_auto_rows": null,
            "grid_column": null,
            "grid_gap": null,
            "grid_row": null,
            "grid_template_areas": null,
            "grid_template_columns": null,
            "grid_template_rows": null,
            "height": null,
            "justify_content": null,
            "justify_items": null,
            "left": null,
            "margin": null,
            "max_height": null,
            "max_width": null,
            "min_height": null,
            "min_width": null,
            "object_fit": null,
            "object_position": null,
            "order": null,
            "overflow": null,
            "overflow_x": null,
            "overflow_y": null,
            "padding": null,
            "right": null,
            "top": null,
            "visibility": null,
            "width": null
          }
        },
        "01aed9dce16343b7bb269f0179f1e6e6": {
          "model_module": "@jupyter-widgets/controls",
          "model_name": "ProgressStyleModel",
          "model_module_version": "1.5.0",
          "state": {
            "_model_module": "@jupyter-widgets/controls",
            "_model_module_version": "1.5.0",
            "_model_name": "ProgressStyleModel",
            "_view_count": null,
            "_view_module": "@jupyter-widgets/base",
            "_view_module_version": "1.2.0",
            "_view_name": "StyleView",
            "bar_color": null,
            "description_width": ""
          }
        },
        "6828b52d59024a759fd8864f37bc6cb6": {
          "model_module": "@jupyter-widgets/base",
          "model_name": "LayoutModel",
          "model_module_version": "1.2.0",
          "state": {
            "_model_module": "@jupyter-widgets/base",
            "_model_module_version": "1.2.0",
            "_model_name": "LayoutModel",
            "_view_count": null,
            "_view_module": "@jupyter-widgets/base",
            "_view_module_version": "1.2.0",
            "_view_name": "LayoutView",
            "align_content": null,
            "align_items": null,
            "align_self": null,
            "border": null,
            "bottom": null,
            "display": null,
            "flex": null,
            "flex_flow": null,
            "grid_area": null,
            "grid_auto_columns": null,
            "grid_auto_flow": null,
            "grid_auto_rows": null,
            "grid_column": null,
            "grid_gap": null,
            "grid_row": null,
            "grid_template_areas": null,
            "grid_template_columns": null,
            "grid_template_rows": null,
            "height": null,
            "justify_content": null,
            "justify_items": null,
            "left": null,
            "margin": null,
            "max_height": null,
            "max_width": null,
            "min_height": null,
            "min_width": null,
            "object_fit": null,
            "object_position": null,
            "order": null,
            "overflow": null,
            "overflow_x": null,
            "overflow_y": null,
            "padding": null,
            "right": null,
            "top": null,
            "visibility": null,
            "width": null
          }
        },
        "317ea6953bcb48a694f89a8738c443b6": {
          "model_module": "@jupyter-widgets/controls",
          "model_name": "DescriptionStyleModel",
          "model_module_version": "1.5.0",
          "state": {
            "_model_module": "@jupyter-widgets/controls",
            "_model_module_version": "1.5.0",
            "_model_name": "DescriptionStyleModel",
            "_view_count": null,
            "_view_module": "@jupyter-widgets/base",
            "_view_module_version": "1.2.0",
            "_view_name": "StyleView",
            "description_width": ""
          }
        }
      }
    }
  },
  "nbformat": 4,
  "nbformat_minor": 5
}